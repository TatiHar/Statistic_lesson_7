{
 "cells": [
  {
   "cell_type": "markdown",
   "id": "7d6bf15f",
   "metadata": {},
   "source": [
    "Задание 1"
   ]
  },
  {
   "cell_type": "code",
   "execution_count": 2,
   "id": "879e64c8",
   "metadata": {},
   "outputs": [],
   "source": [
    "import numpy as np\n",
    "import pandas as pd\n",
    "\n",
    "from scipy.stats import norm\n",
    "from math import sqrt"
   ]
  },
  {
   "cell_type": "code",
   "execution_count": 3,
   "id": "ed091d20",
   "metadata": {},
   "outputs": [],
   "source": [
    "x = np.array([35, 45, 190, 200, 40, 70, 54, 150, 120, 110]) #заработная плата заемщиков\n",
    "y = np.array([401, 574, 874, 919, 459, 739, 653, 902, 746, 832]) #поведенческий кредитный скоринг\n",
    "n = len(x)"
   ]
  },
  {
   "cell_type": "code",
   "execution_count": 4,
   "id": "435be8f8",
   "metadata": {},
   "outputs": [
    {
     "name": "stdout",
     "output_type": "stream",
     "text": [
      "Коэффициент линейной регрессии b - 2.620538882402765,\n",
      "Коэффициент линейной регрессии a - 444.1773573243596,\n",
      "Линейная регрессия - [535.89621821 562.10160703 942.07974498 968.2851338  548.99891262\n",
      " 627.61507909 585.68645697 837.25818968 758.64202321 732.43663439]\n"
     ]
    }
   ],
   "source": [
    "b = (np.mean(x*y) - np.mean(x) * np.mean(y)) / (np.mean(x**2) - np.mean(x)**2)\n",
    "a = np.mean(y) - b * np.mean(x)\n",
    "lr = a + b * x\n",
    "\n",
    "print(f'Коэффициент линейной регрессии b - {b},\\n\\\n",
    "Коэффициент линейной регрессии a - {a},\\n\\\n",
    "Линейная регрессия - {lr}')"
   ]
  },
  {
   "cell_type": "code",
   "execution_count": 5,
   "id": "81a0d56f",
   "metadata": {},
   "outputs": [
    {
     "name": "stdout",
     "output_type": "stream",
     "text": [
      "Коэффициент линейной регрессии b - 2.6205388824027653,\n",
      "Коэффициент линейной регрессии a - 444.17735732435955,\n",
      "Линейная регрессия - [535.89621821 562.10160703 942.07974498 968.2851338  548.99891262\n",
      " 627.61507909 585.68645697 837.25818968 758.64202321 732.43663439]\n"
     ]
    }
   ],
   "source": [
    "b = (n*(np.sum(x*y)) - (np.sum(x)*np.sum(y))) / (n*np.sum(x**2) - np.sum(x)**2)\n",
    "a = np.mean(y) - (b * np.mean(x))\n",
    "lr = a + b * x\n",
    "\n",
    "print(f'Коэффициент линейной регрессии b - {b},\\n\\\n",
    "Коэффициент линейной регрессии a - {a},\\n\\\n",
    "Линейная регрессия - {lr}')"
   ]
  },
  {
   "cell_type": "code",
   "execution_count": 6,
   "id": "6a30a444",
   "metadata": {},
   "outputs": [
    {
     "name": "stdout",
     "output_type": "stream",
     "text": [
      "Коэффициенты линейной регрессии a, b - [[444.17735732]\n",
      " [  2.62053888]]\n"
     ]
    }
   ],
   "source": [
    "y = y.reshape(10,1)\n",
    "x = np.hstack([np.ones((10,1)),x.reshape(10,1)])\n",
    "b = np.linalg.inv(x.T@x)@x.T@y\n",
    "\n",
    "print(f'Коэффициенты линейной регрессии a, b - {b}')"
   ]
  },
  {
   "cell_type": "code",
   "execution_count": 8,
   "id": "1f992bf8",
   "metadata": {},
   "outputs": [
    {
     "name": "stdout",
     "output_type": "stream",
     "text": [
      "Коэффициенты линейной регрессии b - [[5.88982042]]\n"
     ]
    }
   ],
   "source": [
    "x = np.array([35, 45, 190, 200, 40, 70, 54, 150, 120, 110]) #заработная плата заемщиков\n",
    "y = np.array([401, 574, 874, 919, 459, 739, 653, 902, 746, 832]) #поведенческий кредитный скоринг\n",
    "y = y.reshape(10,1)\n",
    "x = x.reshape(10,1)\n",
    "b = np.dot(np.linalg.inv(np.dot(x.T,x)),x.T @ y)\n",
    "print(f'Коэффициенты линейной регрессии b - {b}')"
   ]
  },
  {
   "cell_type": "markdown",
   "id": "1a475d7d",
   "metadata": {},
   "source": [
    "Задание 2"
   ]
  },
  {
   "cell_type": "code",
   "execution_count": 14,
   "id": "f8d4a8b0",
   "metadata": {},
   "outputs": [
    {
     "data": {
      "text/plain": [
       "array([ 99, 107, 111, 115, 115, 122, 125, 125, 131, 131])"
      ]
     },
     "execution_count": 14,
     "metadata": {},
     "output_type": "execute_result"
    }
   ],
   "source": [
    "iq = np.array([131, 125, 115, 122, 131, 115, 107, 99, 125, 111])\n",
    "iq.sort()\n",
    "iq"
   ]
  },
  {
   "cell_type": "code",
   "execution_count": 15,
   "id": "57d3252e",
   "metadata": {},
   "outputs": [
    {
     "data": {
      "text/plain": [
       "10"
      ]
     },
     "execution_count": 15,
     "metadata": {},
     "output_type": "execute_result"
    }
   ],
   "source": [
    "n = len(iq)\n",
    "n"
   ]
  },
  {
   "cell_type": "code",
   "execution_count": 16,
   "id": "523cb972",
   "metadata": {},
   "outputs": [
    {
     "data": {
      "text/plain": [
       "(110.55660776308164, 125.64339223691834)"
      ]
     },
     "execution_count": 16,
     "metadata": {},
     "output_type": "execute_result"
    }
   ],
   "source": [
    "t2a = 2.262\n",
    "t1 = iq.mean() - (t2a * iq.std(ddof=1) / np.sqrt(n))\n",
    "t2 = iq.mean() + (t2a * iq.std(ddof=1) / np.sqrt(n))\n",
    "(t1, t2)"
   ]
  }
 ],
 "metadata": {
  "kernelspec": {
   "display_name": "Python 3",
   "language": "python",
   "name": "python3"
  },
  "language_info": {
   "codemirror_mode": {
    "name": "ipython",
    "version": 3
   },
   "file_extension": ".py",
   "mimetype": "text/x-python",
   "name": "python",
   "nbconvert_exporter": "python",
   "pygments_lexer": "ipython3",
   "version": "3.8.8"
  }
 },
 "nbformat": 4,
 "nbformat_minor": 5
}
